{
 "cells": [
  {
   "cell_type": "markdown",
   "metadata": {},
   "source": [
    "<img\n",
    "src=\"https://www.imt-atlantique.fr/sites/default/files/Images/Ecole/charte-graphique/IMT_Atlantique_logo_RVB_Baseline_400x272.jpg\"\n",
    "WIDTH=200 HEIGHT=200>\n",
    "\n",
    "\n",
    "\n",
    "<CENTER>\n",
    "</br>\n",
    "<p><font size=\"5\"> TAF MCE </span></p>\n",
    "<p><font size=\"4\">  UE Numerical Methods </font></p>\n",
    "<p></p>\n",
    "<p><font size=\"5\">  Lab - JuliaOpt: Julia optimization libraries</font></p>\n",
    "<p><font size=\"4\">  By Kevin Michalewicz </font></p>\n",
    "</p></br>\n",
    "</p>\n",
    "</CENTER>\n",
    "\n",
    "---------------------------"
   ]
  },
  {
   "cell_type": "markdown",
   "metadata": {},
   "source": [
    "# <span style=\"color:#00B8DE\"> I - Symbolic computation for optimization with Sympy</span>\n",
    "\n",
    "Sympy is a Python library for symbolic computation that can be interfaced simply with Julia. It can be used when possible to get closed form solution of optimization problems. Inside Julia, additional Julia syntaxes can be used to work with Sympy.\n",
    "\n",
    "## Refs:\n",
    "\n",
    "> - https://www.sympy.org/ (sympy website)\n",
    "> - https://github.com/JuliaPy/SymPy.jl (SymPy Julia interface)\n",
    "> - http://mth229.github.io/symbolic.html (tuto)\n",
    "> - https://github.com/jverzani/SymPy.jl/blob/master/examples/tutorial.md (tuto)\n"
   ]
  },
  {
   "cell_type": "code",
   "execution_count": 1,
   "metadata": {},
   "outputs": [
    {
     "name": "stderr",
     "output_type": "stream",
     "text": [
      "\u001b[32m\u001b[1m    Updating\u001b[22m\u001b[39m registry at `~/.julia/registries/General`\n",
      "\u001b[32m\u001b[1m   Resolving\u001b[22m\u001b[39m package versions...\n",
      "\u001b[32m\u001b[1m  No Changes\u001b[22m\u001b[39m to `~/.julia/environments/v1.6/Project.toml`\n",
      "\u001b[32m\u001b[1m  No Changes\u001b[22m\u001b[39m to `~/.julia/environments/v1.6/Manifest.toml`\n"
     ]
    }
   ],
   "source": [
    "using Pkg; Pkg.add(\"SymPy\")\n",
    "Pkg.build(\"SpecialFunctions\")"
   ]
  },
  {
   "cell_type": "markdown",
   "metadata": {},
   "source": [
    "## <span style=\"color:#00B8DE\"> a) - Example </span>"
   ]
  },
  {
   "cell_type": "code",
   "execution_count": 2,
   "metadata": {},
   "outputs": [
    {
     "data": {
      "text/latex": [
       "$\\left[ \\begin{array}{r}- \\frac{1}{4} - \\frac{\\sqrt{39} i}{4}\\\\- \\frac{1}{4} + \\frac{\\sqrt{39} i}{4}\\end{array} \\right]$\n"
      ],
      "text/plain": [
       "2-element Vector{Sym}:\n",
       " -1/4 - sqrt(39)*I/4\n",
       " -1/4 + sqrt(39)*I/4"
      ]
     },
     "execution_count": 2,
     "metadata": {},
     "output_type": "execute_result"
    }
   ],
   "source": [
    "using SymPy\n",
    "#using LaTeXStrings\n",
    "\n",
    "@vars z\n",
    "solve(2z^2+z+5)"
   ]
  },
  {
   "cell_type": "code",
   "execution_count": 3,
   "metadata": {},
   "outputs": [
    {
     "data": {
      "text/latex": [
       "$\\begin{equation*}4 z^{3} + 2 z + 6\\end{equation*}$\n"
      ],
      "text/plain": [
       "   3          \n",
       "4⋅z  + 2⋅z + 6"
      ]
     },
     "execution_count": 3,
     "metadata": {},
     "output_type": "execute_result"
    }
   ],
   "source": [
    "diff(z^4+z^2+6z,z)"
   ]
  },
  {
   "cell_type": "code",
   "execution_count": 4,
   "metadata": {},
   "outputs": [
    {
     "data": {
      "text/plain": [
       "(1, -1)"
      ]
     },
     "execution_count": 4,
     "metadata": {},
     "output_type": "execute_result"
    }
   ],
   "source": [
    "a = symbols(\"a\",positive=true)\n",
    "b = symbols(\"b\",negative=true)\n",
    "diff(abs(a)),diff(abs(b))"
   ]
  },
  {
   "cell_type": "markdown",
   "metadata": {},
   "source": [
    "## <span style=\"color:#00B8DE\"> b) - Constrained optimization: equality constraint </span>\n",
    "\n",
    "Using Sympy solve \n",
    "\n",
    "$$\n",
    "\\left\\{\n",
    "\\begin{array}{l}\n",
    "{\\text{opt}}_{x,y}\\; f(x,y) = xy \\\\\n",
    "{\\text {s.t.}}\\; h(x,y) = \\left(\\dfrac x a \\right)^2 + \\left(\\dfrac y b \\right)^2-1=0\n",
    "\\end{array}\n",
    "\\right.\n",
    "$$"
   ]
  },
  {
   "cell_type": "code",
   "execution_count": 5,
   "metadata": {},
   "outputs": [
    {
     "data": {
      "text/latex": [
       "$\\left[ \\begin{array}{r}\\left( \\left( - \\frac{\\sqrt{2} a}{2}, \\  - \\frac{\\sqrt{2} b}{2}, \\  - \\frac{a b}{2}\\right), \\  \\frac{a b}{2}\\right)\\\\\\left( \\left( - \\frac{\\sqrt{2} a}{2}, \\  \\frac{\\sqrt{2} b}{2}, \\  \\frac{a b}{2}\\right), \\  - \\frac{a b}{2}\\right)\\\\\\left( \\left( \\frac{\\sqrt{2} a}{2}, \\  - \\frac{\\sqrt{2} b}{2}, \\  \\frac{a b}{2}\\right), \\  - \\frac{a b}{2}\\right)\\\\\\left( \\left( \\frac{\\sqrt{2} a}{2}, \\  \\frac{\\sqrt{2} b}{2}, \\  - \\frac{a b}{2}\\right), \\  \\frac{a b}{2}\\right)\\end{array} \\right]$\n"
      ],
      "text/plain": [
       "4-element Vector{Sym}:\n",
       " ((-sqrt(2)*a/2, -sqrt(2)*b/2, -a*b/2), a*b/2)\n",
       "  ((-sqrt(2)*a/2, sqrt(2)*b/2, a*b/2), -a*b/2)\n",
       "  ((sqrt(2)*a/2, -sqrt(2)*b/2, a*b/2), -a*b/2)\n",
       "   ((sqrt(2)*a/2, sqrt(2)*b/2, -a*b/2), a*b/2)"
      ]
     },
     "execution_count": 5,
     "metadata": {},
     "output_type": "execute_result"
    }
   ],
   "source": [
    "using SymPy\n",
    "# Parameters & functions\n",
    "@vars x y\n",
    "a,b    = symbols(\"a b\", positive=true)\n",
    "λ      = symbols(\"λ\") #,real=true)\n",
    "f(x,y) = x*y\n",
    "h(x,y) = x^2/a^2 + y^2/b^2 - 1\n",
    "\n",
    "# Lagrangian\n",
    "L(x,y,λ) = f(x,y) + λ * h(x,y)\n",
    "∇L(x,y,λ) = [diff(L(x,y,λ),x), diff(L(x,y,λ),y)]\n",
    "# Solution\n",
    "s = solve([∇L(x,y,λ)..., h(x,y)], (x,y,λ))\n",
    "[Sym((s[k], f(s[k][1], s[k][2]))) for k in 1:length(s)]"
   ]
  },
  {
   "cell_type": "markdown",
   "metadata": {},
   "source": [
    "## <span style=\"color:#00B8DE\"> c) - Constrained optimization: inequality constraint </span>\n",
    "\n",
    "Using Sympy solve \n",
    "\n",
    "$$\n",
    "\\left\\{\n",
    "\\begin{array}{l}\n",
    "{\\text{opt}}_{x,y}\\; f(x,y) = xy \\\\\n",
    "{\\text {s.t.}}\\; g_1(x,y) = (\\frac x a)^2 + (\\frac y b)^2\\leq 1;\\quad g_2(x,y) = -bx-ay+ab \\leq 0\n",
    "\\end{array}\n",
    "\\right.\n",
    "$$"
   ]
  },
  {
   "cell_type": "code",
   "execution_count": 6,
   "metadata": {},
   "outputs": [
    {
     "data": {
      "text/latex": [
       "$\\left[ \\begin{array}{r}\\left( \\left( 0, \\  0, \\  0, \\  0\\right), \\  0\\right)\\\\\\left( \\left( 0, \\  b, \\  \\frac{a b}{2}, \\  1\\right), \\  0\\right)\\\\\\left( \\left( \\frac{a}{2}, \\  \\frac{b}{2}, \\  0, \\  \\frac{1}{2}\\right), \\  \\frac{a b}{4}\\right)\\\\\\left( \\left( a, \\  0, \\  \\frac{a b}{2}, \\  1\\right), \\  0\\right)\\\\\\left( \\left( - \\frac{\\sqrt{2} a}{2}, \\  - \\frac{\\sqrt{2} b}{2}, \\  - \\frac{a b}{2}, \\  0\\right), \\  \\frac{a b}{2}\\right)\\\\\\left( \\left( - \\frac{\\sqrt{2} a}{2}, \\  \\frac{\\sqrt{2} b}{2}, \\  \\frac{a b}{2}, \\  0\\right), \\  - \\frac{a b}{2}\\right)\\\\\\left( \\left( \\frac{\\sqrt{2} a}{2}, \\  - \\frac{\\sqrt{2} b}{2}, \\  \\frac{a b}{2}, \\  0\\right), \\  - \\frac{a b}{2}\\right)\\\\\\left( \\left( \\frac{\\sqrt{2} a}{2}, \\  \\frac{\\sqrt{2} b}{2}, \\  - \\frac{a b}{2}, \\  0\\right), \\  \\frac{a b}{2}\\right)\\end{array} \\right]$\n"
      ],
      "text/plain": [
       "8-element Vector{Sym}:\n",
       "                                ((0, 0, 0, 0), 0)\n",
       "                            ((0, b, a*b/2, 1), 0)\n",
       "                      ((a/2, b/2, 0, 1/2), a*b/4)\n",
       "                            ((a, 0, a*b/2, 1), 0)\n",
       " ((-sqrt(2)*a/2, -sqrt(2)*b/2, -a*b/2, 0), a*b/2)\n",
       "  ((-sqrt(2)*a/2, sqrt(2)*b/2, a*b/2, 0), -a*b/2)\n",
       "  ((sqrt(2)*a/2, -sqrt(2)*b/2, a*b/2, 0), -a*b/2)\n",
       "   ((sqrt(2)*a/2, sqrt(2)*b/2, -a*b/2, 0), a*b/2)"
      ]
     },
     "execution_count": 6,
     "metadata": {},
     "output_type": "execute_result"
    }
   ],
   "source": [
    "# Parameters & functions\n",
    "#-----------------------\n",
    "@vars x y\n",
    "a,b    = symbols(\"a b\", positive=true)\n",
    "µ1,µ2  = symbols(\"µ1 µ2\") #,real=true) # with positive=false we find local maxima\n",
    "f(x,y) = x*y\n",
    "g1(x,y) = x^2/a^2 + y^2/b^2 - 1\n",
    "g2(x,y) = -b*x -a*y +a*b\n",
    "\n",
    "# Solution\n",
    "#-----------\n",
    "L(x,y,µ1,µ2) = f(x,y) + µ1 * g1(x,y) + µ2 * g2(x,y)\n",
    "∇L(x,y,µ1,µ2) = [diff(L(x,y,µ1,µ2),x), diff(L(x,y,µ1,µ2),y)]\n",
    "s = solve([∇L(x,y,µ1,µ2)..., µ1*g1(x,y), µ2*g2(x,y)], (x, y, µ1, µ2))\n",
    "[Sym((s[k], f(s[k][1], s[k][2]))) for k in 1:length(s)]"
   ]
  },
  {
   "cell_type": "markdown",
   "metadata": {},
   "source": [
    "# <span style=\"color:#00B8DE\"> II - Using JuliaOpt</span>\n",
    "\n",
    "If high performance numerical optimization is searched for optimization, one can look at **JuliaOpt** (http://www.juliaopt.org/), an organization that brings together packages related to optimization. In particular it supplies\n",
    "\n",
    "> - Julia standalone packages such as **Optim.jl** or **Convex.jl**\n",
    "> - modeling languages\n",
    "> - external solver interfaces\n",
    "<!-- >![alt text](./optim_overview.png) -->\n",
    "\n",
    "#### *Note:* **MathProgBase** library is an API (Application Programming Interface) for mathematical optimization solvers that has been replaced recently by **MathOptInterface**\n"
   ]
  },
  {
   "cell_type": "markdown",
   "metadata": {},
   "source": [
    "## Refs:\n",
    "\n",
    "> - https://www.juliaopt.org/ (JuliaOpt)\n",
    "> - http://www.juliaopt.org/packages/ (JuliaOpt packages list)\n",
    "> - https://github.com/JuliaOpt/Convex.jl (Convex)\n",
    "> - https://convexjl.readthedocs.io/en/latest/\n",
    "> - http://www.juliaopt.org/JuMP.jl/v0.19.0/ (JuMP)\n",
    "> - https://github.com/JuliaOpt/MathOptInterface.jl (MathOptInterface)"
   ]
  },
  {
   "cell_type": "markdown",
   "metadata": {},
   "source": [
    "## <span style=\"color:#00B8DE\"> a) Minimizing Rosenborck's function with Optim.jl</span>\n",
    "\n",
    "**Optim.jl**: a project to implement basic optimization algorithms in pure Julia for univariate and multivariate optimization.\n",
    "\n",
    "\n",
    "https://github.com/JuliaNLSolvers/Optim.jl\n",
    "\n",
    "Minimize Rosenbrock's $f({\\bf x})=\\sum_{i=1:n-1}[(1-{\\bf x}_i)^2+100(x_{i+1}-x_i^2)^2]$ with library **Optim.jl**\n",
    "using the conjugate gradient method. \n",
    "> - First let the algorithm compute the gradient by itself. Also test Newton method.\n",
    "> - Then, call the optimization function supplying the gradient function. \n",
    "> - Compare execution time\n",
    "\n",
    "Choose for instance $n=10$."
   ]
  },
  {
   "cell_type": "code",
   "execution_count": 7,
   "metadata": {},
   "outputs": [],
   "source": [
    "#using Pkg; Pkg.add(\"Optim\")"
   ]
  },
  {
   "cell_type": "code",
   "execution_count": 8,
   "metadata": {},
   "outputs": [
    {
     "data": {
      "text/plain": [
       "rosenbrock (generic function with 1 method)"
      ]
     },
     "execution_count": 8,
     "metadata": {},
     "output_type": "execute_result"
    }
   ],
   "source": [
    "using Optim\n",
    "\n",
    "n = 10\n",
    "\n",
    "function rosenbrock(x)\n",
    "    \n",
    "    output = 0\n",
    "    N = length(x)\n",
    "    for i in 1:N-1\n",
    "        output += (1.0 - x[i])^2 + 100.0 * (x[i+1] - x[i]^2)^2\n",
    "    end\n",
    "    \n",
    "    return output\n",
    "end"
   ]
  },
  {
   "cell_type": "code",
   "execution_count": 9,
   "metadata": {},
   "outputs": [
    {
     "data": {
      "text/latex": [
       "$\\begin{equation*}\\left(1.0 - x_{1}\\right)^{2} + \\left(1.0 - x_{2}\\right)^{2} + \\left(1.0 - x_{3}\\right)^{2} + 100.0 \\left(- x_{1}^{2} + x_{2}\\right)^{2} + 100.0 \\left(- x_{2}^{2} + x_{3}\\right)^{2} + 100.0 \\left(- x_{3}^{2} + x_{4}\\right)^{2}\\end{equation*}$\n"
      ],
      "text/plain": [
       "                                                            2                 \n",
       "          2             2             2         ⎛    2     ⎞          ⎛    2  \n",
       "(1.0 - x₁)  + (1.0 - x₂)  + (1.0 - x₃)  + 100.0⋅⎝- x₁  + x₂⎠  + 100.0⋅⎝- x₂  +\n",
       "\n",
       "    2                     2\n",
       "   ⎞          ⎛    2     ⎞ \n",
       " x₃⎠  + 100.0⋅⎝- x₃  + x₄⎠ "
      ]
     },
     "execution_count": 9,
     "metadata": {},
     "output_type": "execute_result"
    }
   ],
   "source": [
    "@vars x1 x2 x3 x4\n",
    "rosenbrock([x1,x2,x3,x4])"
   ]
  },
  {
   "cell_type": "code",
   "execution_count": 32,
   "metadata": {},
   "outputs": [
    {
     "name": "stdout",
     "output_type": "stream",
     "text": [
      "  0.062190 seconds (275.05 k allocations: 12.978 MiB, 73.88% compilation time)\n"
     ]
    },
    {
     "data": {
      "text/plain": [
       " * Status: failure (reached maximum number of iterations)\n",
       "\n",
       " * Candidate solution\n",
       "    Final objective value:     6.928493e-19\n",
       "\n",
       " * Found with\n",
       "    Algorithm:     Conjugate Gradient\n",
       "\n",
       " * Convergence measures\n",
       "    |x - x'|               = 2.22e-16 ≰ 0.0e+00\n",
       "    |x - x'|/|x'|          = 2.22e-16 ≰ 0.0e+00\n",
       "    |f(x) - f(x')|         = 2.10e-25 ≰ 0.0e+00\n",
       "    |f(x) - f(x')|/|f(x')| = 3.02e-07 ≰ 0.0e+00\n",
       "    |g(x)|                 = 1.21e-08 ≰ 1.0e-08\n",
       "\n",
       " * Work counters\n",
       "    Seconds run:   0  (vs limit Inf)\n",
       "    Iterations:    1000\n",
       "    f(x) calls:    23909\n",
       "    ∇f(x) calls:   23621\n"
      ]
     },
     "execution_count": 32,
     "metadata": {},
     "output_type": "execute_result"
    }
   ],
   "source": [
    "@time result = optimize(rosenbrock, zeros(n), ConjugateGradient())"
   ]
  },
  {
   "cell_type": "code",
   "execution_count": 33,
   "metadata": {},
   "outputs": [
    {
     "name": "stdout",
     "output_type": "stream",
     "text": [
      "  0.000307 seconds (400 allocations: 23.234 KiB)\n"
     ]
    },
    {
     "data": {
      "text/plain": [
       " * Status: success\n",
       "\n",
       " * Candidate solution\n",
       "    Final objective value:     1.256128e-16\n",
       "\n",
       " * Found with\n",
       "    Algorithm:     Newton's Method\n",
       "\n",
       " * Convergence measures\n",
       "    |x - x'|               = 3.27e-09 ≰ 0.0e+00\n",
       "    |x - x'|/|x'|          = 3.27e-09 ≰ 0.0e+00\n",
       "    |f(x) - f(x')|         = 5.37e-17 ≰ 0.0e+00\n",
       "    |f(x) - f(x')|/|f(x')| = 4.28e-01 ≰ 0.0e+00\n",
       "    |g(x)|                 = 6.49e-13 ≤ 1.0e-08\n",
       "\n",
       " * Work counters\n",
       "    Seconds run:   0  (vs limit Inf)\n",
       "    Iterations:    9\n",
       "    f(x) calls:    26\n",
       "    ∇f(x) calls:   26\n",
       "    ∇²f(x) calls:  9\n"
      ]
     },
     "execution_count": 33,
     "metadata": {},
     "output_type": "execute_result"
    }
   ],
   "source": [
    "# Newton method\n",
    "@time result = optimize(rosenbrock, 1 .+ randn(n)/10, Newton())"
   ]
  },
  {
   "cell_type": "code",
   "execution_count": 34,
   "metadata": {},
   "outputs": [
    {
     "data": {
      "text/plain": [
       "∇_Ros! (generic function with 1 method)"
      ]
     },
     "execution_count": 34,
     "metadata": {},
     "output_type": "execute_result"
    }
   ],
   "source": [
    "function ∇_Ros!(∇,x)\n",
    "    \n",
    "    N = length(x)\n",
    "    ∇[1] = -2.0 * (1.0 - x[1]) - 400.0 * (x[2] - x[1]^2) * x[1]\n",
    "    \n",
    "    for i in 2:N-1\n",
    "        ∇[i] = -2.0 * (1.0 - x[i]) - 400.0 * (x[i+1] - x[i]^2) * x[i] + 200.0 * (x[i] - x[i-1]^2)\n",
    "    end \n",
    "    \n",
    "    ∇[N] = 200.0 * (x[N] - x[N-1]^2)\n",
    "\n",
    "end"
   ]
  },
  {
   "cell_type": "code",
   "execution_count": 31,
   "metadata": {},
   "outputs": [
    {
     "name": "stdout",
     "output_type": "stream",
     "text": [
      "  0.001126 seconds (6.49 k allocations: 293.016 KiB)\n"
     ]
    },
    {
     "data": {
      "text/plain": [
       " * Status: success\n",
       "\n",
       " * Candidate solution\n",
       "    Final objective value:     2.767319e-18\n",
       "\n",
       " * Found with\n",
       "    Algorithm:     Conjugate Gradient\n",
       "\n",
       " * Convergence measures\n",
       "    |x - x'|               = 9.03e-11 ≰ 0.0e+00\n",
       "    |x - x'|/|x'|          = 9.03e-11 ≰ 0.0e+00\n",
       "    |f(x) - f(x')|         = 2.94e-19 ≰ 0.0e+00\n",
       "    |f(x) - f(x')|/|f(x')| = 1.06e-01 ≰ 0.0e+00\n",
       "    |g(x)|                 = 7.30e-09 ≤ 1.0e-08\n",
       "\n",
       " * Work counters\n",
       "    Seconds run:   0  (vs limit Inf)\n",
       "    Iterations:    264\n",
       "    f(x) calls:    549\n",
       "    ∇f(x) calls:   289\n"
      ]
     },
     "execution_count": 31,
     "metadata": {},
     "output_type": "execute_result"
    }
   ],
   "source": [
    "@time optimize(rosenbrock, ∇_Ros!, zeros(n), ConjugateGradient())"
   ]
  },
  {
   "cell_type": "markdown",
   "metadata": {},
   "source": [
    " "
   ]
  },
  {
   "cell_type": "markdown",
   "metadata": {},
   "source": [
    "## <span style=\"color:#00B8DE\"> b) Linear and quadratic problems with Convex.jl</span>\n",
    "\n",
    "**Convex.jl**: A Julia library for solving linear and convex problems via disciplined convex optimization (see the first slides of http://stanford.edu/~boyd/papers/pdf/dcp_talk.pdf for an introduction to the subject)\n",
    "\n",
    "<!-- \n",
    "Examples: https://nbviewer.jupyter.org/github/JuliaOpt/Convex.jl/blob/master/examples/basic_usage.ipynb\n",
    "\n",
    "https://convexjl.readthedocs.io/en/latest/quick_tutorial.html \n",
    "-->"
   ]
  },
  {
   "cell_type": "code",
   "execution_count": 14,
   "metadata": {},
   "outputs": [],
   "source": [
    "#import Pkg; Pkg.add(\"Convex\") \n",
    "#Pkg.add(\"ECOS\") # a lightweight LQ (linear and quadratic) and conic solver "
   ]
  },
  {
   "cell_type": "markdown",
   "metadata": {},
   "source": [
    "#### <span style=\"color:#00B8DE\"> Examples: linear programming</span>"
   ]
  },
  {
   "cell_type": "code",
   "execution_count": 15,
   "metadata": {},
   "outputs": [
    {
     "name": "stderr",
     "output_type": "stream",
     "text": [
      "┌ Warning: Passing keyword attributes is deprecated. Use `set_optimizer_attribute` instead.\n",
      "└ @ ECOS /Users/kevinmicha/.julia/packages/ECOS/EtNk7/src/MOI_wrapper.jl:82\n"
     ]
    },
    {
     "name": "stdout",
     "output_type": "stream",
     "text": [
      "  9.649738 seconds (35.82 M allocations: 2.237 GiB, 5.71% gc time, 1.40% compilation time)\n",
      "problem status = OPTIMAL\n",
      "[x, y, z]= [1.0, 1.0, 0.25]\n"
     ]
    }
   ],
   "source": [
    "using Convex\n",
    "using ECOS\n",
    "\n",
    "x = Variable()\n",
    "y = Variable()\n",
    "z = Variable()\n",
    "expr = x + y + z\n",
    "problem = minimize(expr, x >= 1, y >= x, 4 * z >= y)\n",
    "@time solve!(problem, ECOS.Optimizer(verbose=0))\n",
    "println(\"problem status = $(problem.status)\")\n",
    "println(\"[x, y, z]= $([round(a.value; digits=2) for a in (x, y, z)])\")"
   ]
  },
  {
   "cell_type": "code",
   "execution_count": 16,
   "metadata": {},
   "outputs": [
    {
     "name": "stderr",
     "output_type": "stream",
     "text": [
      "┌ Warning: Passing keyword attributes is deprecated. Use `set_optimizer_attribute` instead.\n",
      "└ @ ECOS /Users/kevinmicha/.julia/packages/ECOS/EtNk7/src/MOI_wrapper.jl:82\n"
     ]
    },
    {
     "name": "stdout",
     "output_type": "stream",
     "text": [
      "  2.419832 seconds (7.38 M allocations: 429.972 MiB, 3.30% gc time, 98.89% compilation time)\n",
      "problem status = OPTIMAL\n",
      "objective = 81.5\n",
      "x_opt = [1.5; 5.0; 10.0; 10.0]\n",
      "x[1] + x[4] - x[2] = 6.0\n"
     ]
    }
   ],
   "source": [
    "using LinearAlgebra: Diagonal\n",
    "\n",
    "x = Variable(4)\n",
    "c = [1; 2; 3; 4]\n",
    "A = Diagonal(ones(4))\n",
    "b = [10; 10; 10; 10]\n",
    "p = Convex.maximize(dot(c, x)) # or c' * x\n",
    "p.constraints += A * x <= b\n",
    "p.constraints += [x >=0 ; x <= 10; x[2] <= 5; x[1] + x[4] - x[2] <= 6.5]\n",
    "@time Convex.solve!(p, ECOS.Optimizer(verbose=0))\n",
    "\n",
    "println(\"problem status = $(p.status)\")\n",
    "println(\"objective = $(round(p.optval; digits=2))\")\n",
    "println(\"x_opt = $(round.(x.value; digits=2))\")\n",
    "println(\"x[1] + x[4] - x[2] = $(round.(evaluate(x[1] + x[4] - x[2])))\")"
   ]
  },
  {
   "cell_type": "markdown",
   "metadata": {},
   "source": [
    "#### <span style=\"color:#00B8DE\"> Exercise: constrained minimum squared error</span>\n",
    "\n",
    "> - Write and test a function to solve \n",
    "$$\n",
    "\\min \\parallel{\\bf Ax}-{\\bf b}\\parallel\\; s.t.\\; {\\bf x}\\succeq 0.\n",
    "$$"
   ]
  },
  {
   "cell_type": "code",
   "execution_count": 17,
   "metadata": {},
   "outputs": [
    {
     "name": "stderr",
     "output_type": "stream",
     "text": [
      "┌ Warning: Passing keyword attributes is deprecated. Use `set_optimizer_attribute` instead.\n",
      "└ @ ECOS /Users/kevinmicha/.julia/packages/ECOS/EtNk7/src/MOI_wrapper.jl:82\n"
     ]
    },
    {
     "name": "stdout",
     "output_type": "stream",
     "text": [
      "  1.235024 seconds (3.30 M allocations: 188.632 MiB, 2.80% gc time, 71.14% compilation time)\n"
     ]
    }
   ],
   "source": [
    "using LinearAlgebra: norm2\n",
    "\n",
    "function MSE(A,b)\n",
    "    # Minimize ||Ax - b||^2 subject to x >= 0\n",
    "    x = Variable(size(A)[2])\n",
    "    v = A * x - b\n",
    "    p = Convex.minimize(sumsquares(v))\n",
    "    p.constraints += [x >= 0]\n",
    "    @time Convex.solve!(p, ECOS.Optimizer(verbose=0))\n",
    "end\n",
    "    \n",
    "# Generate random problem data\n",
    "m = 3;  n = 5\n",
    "A = randn(m, n); b = randn(m, 1)\n",
    "MSE(A,b)"
   ]
  },
  {
   "cell_type": "markdown",
   "metadata": {},
   "source": [
    "## <span style=\"color:#00B8DE\"> c) Using JuMP.jl</span>\n",
    "\n",
    "We will look at **JuMP** modeling language and use it with several optimization solvers.\n",
    "\n",
    "**Notes** \n",
    "> - The API **MathProgBase** is being deprecated and replaced by **MathOptInterface**\n",
    "> - Some packages need installation of additional libraries, possibly as a super-user (see system administrator)\n"
   ]
  },
  {
   "cell_type": "code",
   "execution_count": 18,
   "metadata": {},
   "outputs": [],
   "source": [
    "\"\"\"\n",
    "using Pkg\n",
    "Pkg.add(\"JuMP\")\n",
    "Pkg.add(\"Cbc\")      # LQ (linear and quadratic) programming\n",
    "Pkg.add(\"ECOS\")     # LQ (linear and quadratic) programming\n",
    "Pkg.add(\"Ipopt\")    # Interior Point Optimizer \n",
    "\"\"\";"
   ]
  },
  {
   "cell_type": "markdown",
   "metadata": {},
   "source": [
    "#### <span style=\"color:#00B8DE\"> Example 1: linear program</span>"
   ]
  },
  {
   "cell_type": "code",
   "execution_count": 19,
   "metadata": {},
   "outputs": [],
   "source": [
    "#Pkg.add(\"SpecialFunctions\")\n",
    "#Pkg.add(\"MathOptInterface\")"
   ]
  },
  {
   "cell_type": "code",
   "execution_count": 20,
   "metadata": {},
   "outputs": [
    {
     "data": {
      "text/latex": [
       "$$ \\begin{aligned}\n",
       "\\max\\quad & 5 x + 3 y\\\\\n",
       "\\text{Subject to} \\quad & x + 5 y \\leq 3.0\\\\\n",
       " & x \\geq 0.0\\\\\n",
       " & y \\geq 0.0\\\\\n",
       " & x \\leq 2.0\\\\\n",
       " & y \\leq 30.0\\\\\n",
       "\\end{aligned} $$"
      ]
     },
     "metadata": {},
     "output_type": "display_data"
    },
    {
     "name": "stdout",
     "output_type": "stream",
     "text": [
      "\n",
      "Objective value: 10.6\n",
      "x = 2.0\n",
      "y = 0.2\n",
      "Presolve 0 (-1) rows, 0 (-2) columns and 0 (-2) elements\n",
      "Optimal - objective value 10.6\n",
      "After Postsolve, objective 10.6, infeasibilities - dual 0 (0), primal 0 (0)\n",
      "Optimal objective 10.6 - 0 iterations time 0.002, Presolve 0.00\n"
     ]
    },
    {
     "name": "stderr",
     "output_type": "stream",
     "text": [
      "WARNING: using JuMP.solve in module Main conflicts with an existing identifier.\n"
     ]
    },
    {
     "data": {
      "text/plain": [
       "\u001b[32m\u001b[1mTest Passed\u001b[22m\u001b[39m"
      ]
     },
     "execution_count": 20,
     "metadata": {},
     "output_type": "execute_result"
    }
   ],
   "source": [
    "# https://github.com/JuliaOpt/JuMP.jl/blob/master/examples/basic.jl\n",
    "using JuMP, Cbc, Test\n",
    "\"\"\"\n",
    "example_basic([verbose = true])\n",
    "Formulate and solve a simple LP:\n",
    "    max 5x + 3y\n",
    "     st 1x + 5y <= 3\n",
    "         0 <= x <= 2\n",
    "         0 <= y <= 30\n",
    "If `verbose = true`, print the model and the solution.\n",
    "\"\"\"\n",
    "function example_basic(verbose=true)\n",
    "    model = Model(Cbc.Optimizer)\n",
    "    @variable(model, 0 <= x <= 2)\n",
    "    @variable(model, 0 <= y <= 30)\n",
    "    @objective(model, Max, 5x + 3y)\n",
    "    @constraint(model, 1x + 5y <= 3.0)\n",
    "\n",
    "    set_silent(model)\n",
    "    if verbose\n",
    "        print(model)\n",
    "    end\n",
    "\n",
    "    optimize!(model)\n",
    "    if verbose\n",
    "        println(\"\\nObjective value: $(objective_value(model))\")\n",
    "        println(\"x = $(value(x))\")\n",
    "        println(\"y = $(value(y))\")\n",
    "    end\n",
    "\n",
    "    @test objective_value(model) ≈ 10.6\n",
    "    @test value(x) ≈ 2\n",
    "    @test value(y) ≈ 0.2\n",
    "end\n",
    "\n",
    "verbose = true\n",
    "example_basic(verbose)"
   ]
  },
  {
   "cell_type": "markdown",
   "metadata": {},
   "source": [
    "x+5y=3, x=2, 5+μ+ν=0, 3+5μ=0 ⇒ x,y,μ,ν=2,0.2,-2/3,-13/3\n",
    "μ and ν are negative (maximization problem) and other multipliers set to 0, Khun&Tucker conditions are satisfied and problem is convex. Hence we got the true solution"
   ]
  },
  {
   "cell_type": "markdown",
   "metadata": {},
   "source": [
    "#### <span style=\"color:#00B8DE\"> Example 2: quadratic objective</span>"
   ]
  },
  {
   "cell_type": "code",
   "execution_count": 21,
   "metadata": {},
   "outputs": [
    {
     "data": {
      "text/latex": [
       "$$ \\begin{aligned}\n",
       "\\min\\quad & x^2 + 2 y\\times x + y^2\\\\\n",
       "\\text{Subject to} \\quad & x + y \\geq 1.0\\\\\n",
       " & x \\geq 0.0\\\\\n",
       " & y \\geq 0.0\\\\\n",
       " & x \\leq 2.0\\\\\n",
       " & y \\leq 30.0\\\\\n",
       "\\end{aligned} $$"
      ]
     },
     "metadata": {},
     "output_type": "display_data"
    },
    {
     "name": "stdout",
     "output_type": "stream",
     "text": [
      "\n",
      "Objective value: 1.0\n",
      "x = 0.88\n",
      "y = 0.12\n",
      "\n",
      "ECOS 2.0.5 - (C) embotech GmbH, Zurich Switzerland, 2012-15. Web: www.embotech.com/ECOS\n",
      "\n",
      "It     pcost       dcost      gap   pres   dres    k/t    mu     step   sigma     IR    |   BT\n",
      " 0  +0.000e+00  -3.405e+01  +8e+01  1e-01  2e-01  1e+00  1e+01    ---    ---    1  1  - |  -  - \n",
      " 1  +3.950e+00  -5.458e+00  +3e+01  6e-02  6e-02  4e+00  4e+00  0.9294  3e-01   1  1  1 |  0  0\n",
      " 2  +9.363e-01  -7.698e-01  +5e+00  1e-02  1e-02  6e-01  9e-01  0.7933  5e-03   1  1  1 |  0  0\n",
      " 3  +9.838e-01  +9.020e-01  +3e-01  5e-04  5e-04  3e-02  5e-02  0.9890  4e-02   1  1  1 |  0  0\n",
      " 4  +9.999e-01  +9.989e-01  +3e-03  6e-06  6e-06  3e-04  5e-04  0.9883  1e-04   1  1  1 |  0  0\n",
      " 5  +1.000e+00  +9.999e-01  +3e-04  5e-07  5e-07  2e-05  4e-05  0.9191  1e-03   1  1  1 |  0  0\n",
      " 6  +1.000e+00  +1.000e+00  +1e-05  2e-08  2e-08  1e-06  2e-06  0.9890  4e-02   1  1  1 |  0  0\n",
      " 7  +1.000e+00  +1.000e+00  +3e-07  4e-10  4e-10  2e-08  4e-08  0.9803  1e-04   1  1  1 |  0  0\n",
      " 8  +1.000e+00  +1.000e+00  +1e-08  2e-11  2e-11  1e-09  2e-09  0.9511  1e-03   1  1  1 |  0  0\n",
      " 9  +1.000e+00  +1.000e+00  +2e-10  4e-13  8e-13  2e-11  3e-11  0.9843  1e-03   1  1  1 |  0  0\n",
      "\n",
      "OPTIMAL (within feastol=8.2e-13, reltol=2.1e-10, abstol=2.1e-10).\n",
      "Runtime: 0.000096 seconds.\n",
      "\n"
     ]
    }
   ],
   "source": [
    "using JuMP, ECOS\n",
    "\n",
    "function example_quadratic(verbose = true)\n",
    "    #m = Model(with_optimizer(Ipopt.Optimizer,print_level=0))\n",
    "    m = Model(with_optimizer(ECOS.Optimizer))\n",
    "    @variable(m, 0 <= x <= 2 )\n",
    "    @variable(m, 0 <= y <= 30 )\n",
    "    @objective(m, Min, x*x+ 2x*y + y*y)\n",
    "    #@variable(m, t )\n",
    "    #@objective(m, Min, t)\n",
    "    #@constraint(m, x*x+ 2x*y + y*y <=t) # or NLconstraint(...)\n",
    "    @constraint(m, x + y >= 1 )\n",
    " \n",
    "    if verbose\n",
    "        print(m)\n",
    "    end\n",
    "\n",
    "    optimize!(m)\n",
    "    if verbose\n",
    "        println(\"\\nObjective value: $(round(objective_value(m);digits=2))\")\n",
    "        println(\"x = $(round(value(x);digits=2))\")\n",
    "        println(\"y = $(round(value(y);digits=2))\")\n",
    "    end\n",
    "end\n",
    "\n",
    "example_quadratic()"
   ]
  },
  {
   "cell_type": "markdown",
   "metadata": {},
   "source": [
    "#### <span style=\"color:#00B8DE\"> Example 3: conic constraints</span>\n",
    "\n",
    "Let $x\\in\\mathbb{R}^{n+1}, A\\in\\mathbb{R}^{n\\times n}, b\\in\\mathbb{R}^{n}$. Solve \n",
    "$$\n",
    "\\left\\{\n",
    "\\begin{array}{l}\n",
    "\\min_{x} \\parallel x-u\\parallel \\\\\n",
    "{\\text {s.t.}}\\; \\parallel Ax_{1:n}-b\\parallel \\leq x_{n+1};\\;x\\geq 0\n",
    "\\end{array}\n",
    "\\right.\n",
    "$$"
   ]
  },
  {
   "cell_type": "code",
   "execution_count": 22,
   "metadata": {},
   "outputs": [
    {
     "name": "stdout",
     "output_type": "stream",
     "text": [
      "\n",
      "Objective value: 0.53\n",
      "x = [1.05, 2.31, 0.0, 0.0]\n",
      "t = 0.53\n"
     ]
    }
   ],
   "source": [
    "using JuMP, ECOS, LinearAlgebra\n",
    "\n",
    "function example_quadratic(A,b,u; verbose = true)\n",
    "    n = length(b)\n",
    "    m = Model(with_optimizer(ECOS.Optimizer,printLevel=0))\n",
    "    @variable(m, x[i=1:n+1]>=0)\n",
    "    ##########################\n",
    "    @variable(m, t)\n",
    "    @objective(m, Min, t)\n",
    "    @constraint(m, vcat(t, (x[1:n]-u)) in SecondOrderCone())\n",
    "    ##########################\n",
    "    # Know also works with\n",
    "    # @objective(m, Min, (x[1:n]-u)'*(x[1:n]-u))\n",
    "    u = vcat(x[n+1],(A*x[1:n]-b))\n",
    "    @constraint(m, u in SecondOrderCone())\n",
    "\n",
    "    #print(m)\n",
    "\n",
    "    std = stdout # save original stdout stream\n",
    "    redirect_stdout()\n",
    "    JuMP.optimize!(m)\n",
    "    redirect_stdout(std) # restore stdout\n",
    "\n",
    "    println(\"\\nObjective value: $(round.(JuMP.objective_value(m);digits=2))\")\n",
    "    println(\"x = $(round.([JuMP.value(x[k]) for k=1:n];digits=2))\")\n",
    "    println(\"t = $(round.(JuMP.value(t);digits=2))\")\n",
    "end\n",
    "\n",
    "n = 4    \n",
    "A = randn(n,n)\n",
    "b = randn(n)\n",
    "u = randn(n)\n",
    "\n",
    "example_quadratic(A,b,u)"
   ]
  },
  {
   "cell_type": "markdown",
   "metadata": {},
   "source": [
    "#### <span style=\"color:#00B8DE\"> Exercise 1: nonlinear optimization</span>\n",
    "\n",
    "Using **Ipopt** solver, solve\n",
    "\n",
    "$$\n",
    "\\max_{x,y} xy^2\\\\\n",
    "{\\text {s.t.}}\\; x^3+y^2= 1;\\;x\\geq 0;\\;y\\geq 0\n",
    "$$\n",
    "\n",
    "<!-- Supply the values of lagrange multipliers.\n",
    "Compare the results obtained with the theoretical solution -->\n"
   ]
  },
  {
   "cell_type": "code",
   "execution_count": 23,
   "metadata": {},
   "outputs": [
    {
     "data": {
      "text/latex": [
       "$$ \\begin{aligned}\n",
       "\\max\\quad & x * y ^ {2.0}\\\\\n",
       "\\text{Subject to} \\quad & x \\geq 0.0\\\\\n",
       " & y \\geq 0.0\\\\\n",
       " & (x ^ {3.0} + y ^ {2.0}) - 1.0 = 0\\\\\n",
       "\\end{aligned} $$"
      ]
     },
     "metadata": {},
     "output_type": "display_data"
    },
    {
     "name": "stdout",
     "output_type": "stream",
     "text": [
      "\n",
      "Objective value: 0.47\n",
      "x = 0.63\n",
      "y = 0.87\n"
     ]
    },
    {
     "data": {
      "text/plain": [
       "(x, y)"
      ]
     },
     "execution_count": 23,
     "metadata": {},
     "output_type": "execute_result"
    }
   ],
   "source": [
    "using JuMP, Ipopt\n",
    "\n",
    "function exercise_nl_opt(verbose=true)\n",
    "    m = Model(with_optimizer(Ipopt.Optimizer))\n",
    "    @variable(m, x>=0)\n",
    "    @variable(m, y>=0)\n",
    "    @NLobjective(m, Max, x * y^2)\n",
    "    @NLconstraint(m, x^3 + y^2==1)\n",
    "    \n",
    "    if verbose\n",
    "        print(m)\n",
    "    end\n",
    "    \n",
    "    std = stdout # save original stdout stream\n",
    "    redirect_stdout()\n",
    "    optimize!(m)\n",
    "    redirect_stdout(std) # restore stdout\n",
    "    \n",
    "    if verbose\n",
    "        println(\"\\nObjective value: $(round(objective_value(m);digits=2))\")\n",
    "        println(\"x = $(round(value(x);digits=2))\")\n",
    "        println(\"y = $(round(value(y);digits=2))\")\n",
    "    end\n",
    "    \n",
    "    return x,y\n",
    "end\n",
    "\n",
    "x,y = exercise_nl_opt()"
   ]
  },
  {
   "cell_type": "code",
   "execution_count": 24,
   "metadata": {},
   "outputs": [
    {
     "name": "stdout",
     "output_type": "stream",
     "text": [
      "Error evaluation: [εx,εy] = [4.1957071150733327e-10, -2.879871896510622e-10]"
     ]
    }
   ],
   "source": [
    "# s = print(\"\\U221B\")\n",
    "print(\"Error evaluation: [εx,εy] = \")\n",
    "print(\"[\", JuMP.value(x)-1/∛4,\", \", JuMP.value(y)-√3/2,\"]\" )"
   ]
  },
  {
   "cell_type": "markdown",
   "metadata": {},
   "source": [
    "#### <span style=\"color:#00B8DE\"> Exercise 2: nonlinear optimization (SISEA Master, June 2016)</span>\n",
    "\n",
    "Using **Ipopt** solver, solve\n",
    "$$\n",
    "{\\text {solve}}\\; \\min_{x,y} x-y^2\\\\\n",
    "{\\text {s.t.}}\\; x^2+y^2\\leq 1\n",
    "$$\n",
    "\n",
    "Compare the result obtained with the theoretical solution"
   ]
  },
  {
   "cell_type": "code",
   "execution_count": 25,
   "metadata": {},
   "outputs": [
    {
     "data": {
      "text/latex": [
       "$$ \\begin{aligned}\n",
       "\\min\\quad & x - y ^ {2.0}\\\\\n",
       "\\text{Subject to} \\quad & (x ^ {2.0} + y ^ {2.0}) - 1.0 \\leq 0\\\\\n",
       "\\end{aligned} $$"
      ]
     },
     "metadata": {},
     "output_type": "display_data"
    },
    {
     "name": "stdout",
     "output_type": "stream",
     "text": [
      "\n",
      "Objective value: -1.0\n",
      "x = -1.0\n",
      "y = 0.0\n"
     ]
    }
   ],
   "source": [
    "using JuMP, Ipopt\n",
    "\n",
    "function exercise_nl_opt_sisea(verbose=true)\n",
    "    m = Model(with_optimizer(Ipopt.Optimizer))\n",
    "    @variable(m, x)\n",
    "    @variable(m, y)\n",
    "    @NLobjective(m, Min, x - y^2)\n",
    "    @NLconstraint(m, x^2+y^2<=1)\n",
    "    \n",
    "    if verbose\n",
    "        print(m)\n",
    "    end\n",
    "    \n",
    "    std = stdout # save original stdout stream\n",
    "    redirect_stdout()\n",
    "    optimize!(m)\n",
    "    redirect_stdout(std) # restore stdout\n",
    "    \n",
    "    if verbose\n",
    "        println(\"\\nObjective value: $(round(objective_value(m);digits=2))\")\n",
    "        println(\"x = $(round(value(x);digits=2))\")\n",
    "        println(\"y = $(round(value(y);digits=2))\")\n",
    "    end\n",
    "end\n",
    "\n",
    "exercise_nl_opt_sisea()"
   ]
  },
  {
   "cell_type": "markdown",
   "metadata": {},
   "source": [
    "#### <span style=\"color:#00B8DE\"> Exercise 3: constrained maximum likelihood estimation</span>\n",
    "\n",
    "> - Implement the maximum likelihood estimation of mean $\\mu$ and variance $\\sigma^2$ for Gaussian $\\mathcal{N}(0,1)$ sample\n",
    "> - Implement the same problem under additional constraint $\\mu=\\sigma^2$"
   ]
  },
  {
   "cell_type": "code",
   "execution_count": 26,
   "metadata": {},
   "outputs": [
    {
     "name": "stdout",
     "output_type": "stream",
     "text": [
      "Without constraint\n",
      "\n",
      "Objective value: -1393.7\n",
      "μ = 0.003980235886600149\n",
      "σ = 0.975073377404976\n",
      "\n",
      "With the constraint  μ = σ \n",
      "\n",
      "Objective value: -1889.62\n",
      "μ = 0.9730934139508056\n",
      "σ = 0.9730934139508056\n"
     ]
    }
   ],
   "source": [
    "#https://github.com/JuliaOpt/JuMP.jl/blob/master/examples/mle.jl\n",
    "using JuMP, Ipopt, Random, Statistics, Test\n",
    "\n",
    "\"\"\"\n",
    "    example_mle()\n",
    "Use nonlinear optimization to compute the maximum likelihood estimate (MLE) of\n",
    "the parameters of a normal distribution aka the sample mean and variance\n",
    "\"\"\"\n",
    "function example_mle(data; verbose = true)\n",
    "            \n",
    "    model = Model(with_optimizer(Ipopt.Optimizer))\n",
    "    @variable(model, μ)\n",
    "    @variable(model, σ >= 0)\n",
    "    @NLobjective(model, Max, 1000 / 2 * log(1 / (2 * π * σ^2)) - sum((x_i - μ)^2 for x_i in data) / (2 * σ^2))\n",
    "\n",
    "    #print(model)\n",
    "    \n",
    "    std = stdout # save original stdout stream\n",
    "    redirect_stdout()\n",
    "    optimize!(model)\n",
    "    redirect_stdout(std) # restore stdout\n",
    "    \n",
    "    println(\"Without constraint\")\n",
    "    println(\"\\nObjective value: $(round(objective_value(model);digits=2))\")\n",
    "    println(\"μ = $(value(μ))\")\n",
    "    println(\"σ = $(value(σ))\")\n",
    "    println(\"\")\n",
    "\n",
    "                \n",
    "    @NLconstraint(model, μ == σ)\n",
    "    optimize!(model)\n",
    "                \n",
    "    println(\"With the constraint  μ = σ \")\n",
    "    println(\"\\nObjective value: $(round(objective_value(model);digits=2))\")\n",
    "    println(\"μ = $(value(μ))\")\n",
    "    println(\"σ = $(value(σ))\")\n",
    "     \n",
    "end\n",
    "\n",
    "data = Random.randn(1000)\n",
    "example_mle(data)"
   ]
  },
  {
   "cell_type": "markdown",
   "metadata": {},
   "source": [
    "#### <span style=\"color:#00B8DE\"> Exercise 4: shape of a chain hang at both ends (catenary)</span>\n",
    "\n",
    "We want to compute the shape of a chain with endpoints $P_1=(0,1)$ and $P_2=(1,1.5)$. We assume the chain has $N\\_links = 10$ linear links, each with length $L\\_links = 2/N\\_links$. Compute the positions of the endpoints of the links and plot them."
   ]
  },
  {
   "cell_type": "code",
   "execution_count": 27,
   "metadata": {},
   "outputs": [],
   "source": [
    "using JuMP\n",
    "\n",
    "N_links = 100         # number of links, 10 times more than suggested\n",
    "N_ends  = N_links+1   # number of ends of links\n",
    "L_links = 2/N_links   # length of links\n",
    "\n",
    "model = Model(with_optimizer(Ipopt.Optimizer))\n",
    "\n",
    "@variable(model, x[1:N_ends])\n",
    "@variable(model, y[1:N_ends])\n",
    "@constraint(model, x[1] == 0)\n",
    "@constraint(model, x[N_ends] == 1)\n",
    "@constraint(model, y[1] == 1)\n",
    "@constraint(model, y[N_ends] == 1.5)\n",
    "\n",
    "for i in 1:N_links\n",
    "    @NLconstraint(model, (x[i+1]-x[i])^2+(y[i+1]-y[i])^2 == L_links^2)\n",
    "end\n",
    "\n",
    "@NLobjective(model, Min, sum(y[i] for i in 1:N_links))\n",
    "            \n",
    "optimize!(model)\n",
    "            \n",
    "s_x = round.([JuMP.value(x[k]) for k=1:N_ends];digits=2)\n",
    "s_y = round.([JuMP.value(y[k]) for k=1:N_ends];digits=2);\n"
   ]
  },
  {
   "cell_type": "code",
   "execution_count": 28,
   "metadata": {},
   "outputs": [
    {
     "data": {
      "image/png": "[encoded data removed]"
     },
     "execution_count": 28,
     "metadata": {},
     "output_type": "execute_result"
    }
   ],
   "source": [
    "using Plots\n",
    "pyplot()\n",
    "plot(s_x, s_y, title=\"Catenary\", legend=false)"
   ]
  }
 ],
 "metadata": {
  "@webio": {
   "lastCommId": null,
   "lastKernelId": null
  },
  "kernelspec": {
   "display_name": "Julia 1.6.2",
   "language": "julia",
   "name": "julia-1.6"
  },
  "language_info": {
   "file_extension": ".jl",
   "mimetype": "application/julia",
   "name": "julia",
   "version": "1.6.2"
  }
 },
 "nbformat": 4,
 "nbformat_minor": 2
}
